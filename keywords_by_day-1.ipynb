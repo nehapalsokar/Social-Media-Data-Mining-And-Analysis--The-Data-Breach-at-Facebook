{
 "cells": [
  {
   "cell_type": "markdown",
   "metadata": {},
   "source": [
    "#### load libraries"
   ]
  },
  {
   "cell_type": "code",
   "execution_count": 141,
   "metadata": {},
   "outputs": [],
   "source": [
    "import pandas as pd\n",
    "import numpy as np\n",
    "import re\n",
    "\n",
    "# plot \n",
    "import plotly.plotly as py\n",
    "import plotly.graph_objs as go\n",
    "import cufflinks as cf\n",
    "import plotly.tools as tls \n",
    "cf.set_config_file(offline=False, world_readable=True, theme='ggplot')\n",
    "credentials = tls.get_credentials_file()\n",
    "from IPython.display import Image"
   ]
  },
  {
   "cell_type": "markdown",
   "metadata": {},
   "source": [
    "#### load data"
   ]
  },
  {
   "cell_type": "code",
   "execution_count": 31,
   "metadata": {},
   "outputs": [],
   "source": [
    "df = pd.read_csv(\"tweets_table-5.csv\")"
   ]
  },
  {
   "cell_type": "code",
   "execution_count": 32,
   "metadata": {},
   "outputs": [
    {
     "data": {
      "text/html": [
       "<div>\n",
       "<style>\n",
       "    .dataframe thead tr:only-child th {\n",
       "        text-align: right;\n",
       "    }\n",
       "\n",
       "    .dataframe thead th {\n",
       "        text-align: left;\n",
       "    }\n",
       "\n",
       "    .dataframe tbody tr th {\n",
       "        vertical-align: top;\n",
       "    }\n",
       "</style>\n",
       "<table border=\"1\" class=\"dataframe\">\n",
       "  <thead>\n",
       "    <tr style=\"text-align: right;\">\n",
       "      <th></th>\n",
       "      <th>keyword</th>\n",
       "      <th>date</th>\n",
       "      <th>tweets</th>\n",
       "    </tr>\n",
       "  </thead>\n",
       "  <tbody>\n",
       "    <tr>\n",
       "      <th>0</th>\n",
       "      <td>deletefacebook</td>\n",
       "      <td>2018-05-13 07:08:55</td>\n",
       "      <td>rt tomthunkitsmind trumpti polit firm offer en...</td>\n",
       "    </tr>\n",
       "    <tr>\n",
       "      <th>1</th>\n",
       "      <td>deletefacebook</td>\n",
       "      <td>2018-05-13 07:07:58</td>\n",
       "      <td>rt duckduckgo pleas keep mind deletefacebook d...</td>\n",
       "    </tr>\n",
       "    <tr>\n",
       "      <th>2</th>\n",
       "      <td>deletefacebook</td>\n",
       "      <td>2018-05-13 07:06:01</td>\n",
       "      <td>rt inthematrixxx qalert 51218peopl unit hold p...</td>\n",
       "    </tr>\n",
       "    <tr>\n",
       "      <th>3</th>\n",
       "      <td>deletefacebook</td>\n",
       "      <td>2018-05-13 06:38:34</td>\n",
       "      <td>rt tammygallant8 kindamuslim jonathon5760 mdav...</td>\n",
       "    </tr>\n",
       "    <tr>\n",
       "      <th>4</th>\n",
       "      <td>deletefacebook</td>\n",
       "      <td>2018-05-13 06:34:10</td>\n",
       "      <td>rt tomthunkitsmind trumpti polit firm offer en...</td>\n",
       "    </tr>\n",
       "  </tbody>\n",
       "</table>\n",
       "</div>"
      ],
      "text/plain": [
       "          keyword                 date  \\\n",
       "0  deletefacebook  2018-05-13 07:08:55   \n",
       "1  deletefacebook  2018-05-13 07:07:58   \n",
       "2  deletefacebook  2018-05-13 07:06:01   \n",
       "3  deletefacebook  2018-05-13 06:38:34   \n",
       "4  deletefacebook  2018-05-13 06:34:10   \n",
       "\n",
       "                                              tweets  \n",
       "0  rt tomthunkitsmind trumpti polit firm offer en...  \n",
       "1  rt duckduckgo pleas keep mind deletefacebook d...  \n",
       "2  rt inthematrixxx qalert 51218peopl unit hold p...  \n",
       "3  rt tammygallant8 kindamuslim jonathon5760 mdav...  \n",
       "4  rt tomthunkitsmind trumpti polit firm offer en...  "
      ]
     },
     "execution_count": 32,
     "metadata": {},
     "output_type": "execute_result"
    }
   ],
   "source": [
    "df.head()"
   ]
  },
  {
   "cell_type": "markdown",
   "metadata": {},
   "source": [
    "#### convert the dates"
   ]
  },
  {
   "cell_type": "code",
   "execution_count": 33,
   "metadata": {},
   "outputs": [],
   "source": [
    "dates = [pd.to_datetime(x).date() for x in df.date]\n",
    "df = df.assign(dates = pd.Series(dates))"
   ]
  },
  {
   "cell_type": "code",
   "execution_count": 34,
   "metadata": {},
   "outputs": [
    {
     "data": {
      "text/html": [
       "<div>\n",
       "<style>\n",
       "    .dataframe thead tr:only-child th {\n",
       "        text-align: right;\n",
       "    }\n",
       "\n",
       "    .dataframe thead th {\n",
       "        text-align: left;\n",
       "    }\n",
       "\n",
       "    .dataframe tbody tr th {\n",
       "        vertical-align: top;\n",
       "    }\n",
       "</style>\n",
       "<table border=\"1\" class=\"dataframe\">\n",
       "  <thead>\n",
       "    <tr style=\"text-align: right;\">\n",
       "      <th></th>\n",
       "      <th>keyword</th>\n",
       "      <th>date</th>\n",
       "      <th>tweets</th>\n",
       "      <th>dates</th>\n",
       "    </tr>\n",
       "  </thead>\n",
       "  <tbody>\n",
       "    <tr>\n",
       "      <th>0</th>\n",
       "      <td>deletefacebook</td>\n",
       "      <td>2018-05-13 07:08:55</td>\n",
       "      <td>rt tomthunkitsmind trumpti polit firm offer en...</td>\n",
       "      <td>2018-05-13</td>\n",
       "    </tr>\n",
       "    <tr>\n",
       "      <th>1</th>\n",
       "      <td>deletefacebook</td>\n",
       "      <td>2018-05-13 07:07:58</td>\n",
       "      <td>rt duckduckgo pleas keep mind deletefacebook d...</td>\n",
       "      <td>2018-05-13</td>\n",
       "    </tr>\n",
       "    <tr>\n",
       "      <th>2</th>\n",
       "      <td>deletefacebook</td>\n",
       "      <td>2018-05-13 07:06:01</td>\n",
       "      <td>rt inthematrixxx qalert 51218peopl unit hold p...</td>\n",
       "      <td>2018-05-13</td>\n",
       "    </tr>\n",
       "    <tr>\n",
       "      <th>3</th>\n",
       "      <td>deletefacebook</td>\n",
       "      <td>2018-05-13 06:38:34</td>\n",
       "      <td>rt tammygallant8 kindamuslim jonathon5760 mdav...</td>\n",
       "      <td>2018-05-13</td>\n",
       "    </tr>\n",
       "    <tr>\n",
       "      <th>4</th>\n",
       "      <td>deletefacebook</td>\n",
       "      <td>2018-05-13 06:34:10</td>\n",
       "      <td>rt tomthunkitsmind trumpti polit firm offer en...</td>\n",
       "      <td>2018-05-13</td>\n",
       "    </tr>\n",
       "  </tbody>\n",
       "</table>\n",
       "</div>"
      ],
      "text/plain": [
       "          keyword                 date  \\\n",
       "0  deletefacebook  2018-05-13 07:08:55   \n",
       "1  deletefacebook  2018-05-13 07:07:58   \n",
       "2  deletefacebook  2018-05-13 07:06:01   \n",
       "3  deletefacebook  2018-05-13 06:38:34   \n",
       "4  deletefacebook  2018-05-13 06:34:10   \n",
       "\n",
       "                                              tweets       dates  \n",
       "0  rt tomthunkitsmind trumpti polit firm offer en...  2018-05-13  \n",
       "1  rt duckduckgo pleas keep mind deletefacebook d...  2018-05-13  \n",
       "2  rt inthematrixxx qalert 51218peopl unit hold p...  2018-05-13  \n",
       "3  rt tammygallant8 kindamuslim jonathon5760 mdav...  2018-05-13  \n",
       "4  rt tomthunkitsmind trumpti polit firm offer en...  2018-05-13  "
      ]
     },
     "execution_count": 34,
     "metadata": {},
     "output_type": "execute_result"
    }
   ],
   "source": [
    "df.head()"
   ]
  },
  {
   "cell_type": "code",
   "execution_count": 35,
   "metadata": {},
   "outputs": [
    {
     "data": {
      "text/plain": [
       "(252011, 4)"
      ]
     },
     "execution_count": 35,
     "metadata": {},
     "output_type": "execute_result"
    }
   ],
   "source": [
    "df.shape"
   ]
  },
  {
   "cell_type": "code",
   "execution_count": 36,
   "metadata": {},
   "outputs": [],
   "source": [
    "df = df.drop_duplicates()"
   ]
  },
  {
   "cell_type": "markdown",
   "metadata": {},
   "source": [
    "#### drop duplicates, now down to 46K rows"
   ]
  },
  {
   "cell_type": "code",
   "execution_count": 37,
   "metadata": {},
   "outputs": [
    {
     "data": {
      "text/plain": [
       "(46627, 4)"
      ]
     },
     "execution_count": 37,
     "metadata": {},
     "output_type": "execute_result"
    }
   ],
   "source": [
    "df.shape"
   ]
  },
  {
   "cell_type": "code",
   "execution_count": 41,
   "metadata": {},
   "outputs": [
    {
     "data": {
      "text/plain": [
       "array(['deletefacebook', '#deletefacebook', 'facebook', 'mark zuckerberg',\n",
       "       'cambridge analytica', 'aleksandr kogan'], dtype=object)"
      ]
     },
     "execution_count": 41,
     "metadata": {},
     "output_type": "execute_result"
    }
   ],
   "source": [
    "df.keyword.unique()"
   ]
  },
  {
   "cell_type": "markdown",
   "metadata": {},
   "source": [
    "#### remove hashtag from keywords"
   ]
  },
  {
   "cell_type": "code",
   "execution_count": 85,
   "metadata": {},
   "outputs": [],
   "source": [
    "clean_keywords = [re.sub(r'[^\\w]', '', word) for word in df.keyword]\n",
    "df = df.assign(clean_keywords = pd.Series(clean_keywords))"
   ]
  },
  {
   "cell_type": "code",
   "execution_count": 86,
   "metadata": {},
   "outputs": [
    {
     "data": {
      "text/plain": [
       "array(['deletefacebook', 'facebook', 'markzuckerberg',\n",
       "       'cambridgeanalytica', 'aleksandrkogan', nan], dtype=object)"
      ]
     },
     "execution_count": 86,
     "metadata": {},
     "output_type": "execute_result"
    }
   ],
   "source": [
    "df.clean_keywords.unique()"
   ]
  },
  {
   "cell_type": "code",
   "execution_count": 87,
   "metadata": {},
   "outputs": [
    {
     "data": {
      "text/plain": [
       "array([datetime.date(2018, 5, 13), datetime.date(2018, 5, 12),\n",
       "       datetime.date(2018, 5, 11), datetime.date(2018, 5, 10),\n",
       "       datetime.date(2018, 5, 14), datetime.date(2018, 5, 15),\n",
       "       datetime.date(2018, 5, 16), datetime.date(2018, 5, 9),\n",
       "       datetime.date(2018, 5, 8), datetime.date(2018, 5, 6),\n",
       "       datetime.date(2018, 5, 7), datetime.date(2018, 5, 17),\n",
       "       datetime.date(2018, 5, 18), datetime.date(2018, 5, 19)], dtype=object)"
      ]
     },
     "execution_count": 87,
     "metadata": {},
     "output_type": "execute_result"
    }
   ],
   "source": [
    "df.dates.unique()"
   ]
  },
  {
   "cell_type": "markdown",
   "metadata": {},
   "source": [
    "#### calculate totals by day and keyword"
   ]
  },
  {
   "cell_type": "code",
   "execution_count": 88,
   "metadata": {},
   "outputs": [],
   "source": [
    "df_tweet_totals = df.groupby(['dates', 'clean_keywords'])['tweets'].count().reset_index()"
   ]
  },
  {
   "cell_type": "code",
   "execution_count": 89,
   "metadata": {},
   "outputs": [
    {
     "data": {
      "text/html": [
       "<div>\n",
       "<style>\n",
       "    .dataframe thead tr:only-child th {\n",
       "        text-align: right;\n",
       "    }\n",
       "\n",
       "    .dataframe thead th {\n",
       "        text-align: left;\n",
       "    }\n",
       "\n",
       "    .dataframe tbody tr th {\n",
       "        vertical-align: top;\n",
       "    }\n",
       "</style>\n",
       "<table border=\"1\" class=\"dataframe\">\n",
       "  <thead>\n",
       "    <tr style=\"text-align: right;\">\n",
       "      <th></th>\n",
       "      <th>dates</th>\n",
       "      <th>clean_keywords</th>\n",
       "      <th>tweets</th>\n",
       "    </tr>\n",
       "  </thead>\n",
       "  <tbody>\n",
       "    <tr>\n",
       "      <th>0</th>\n",
       "      <td>2018-05-10</td>\n",
       "      <td>deletefacebook</td>\n",
       "      <td>642</td>\n",
       "    </tr>\n",
       "    <tr>\n",
       "      <th>1</th>\n",
       "      <td>2018-05-11</td>\n",
       "      <td>deletefacebook</td>\n",
       "      <td>2109</td>\n",
       "    </tr>\n",
       "    <tr>\n",
       "      <th>2</th>\n",
       "      <td>2018-05-12</td>\n",
       "      <td>deletefacebook</td>\n",
       "      <td>1956</td>\n",
       "    </tr>\n",
       "    <tr>\n",
       "      <th>3</th>\n",
       "      <td>2018-05-12</td>\n",
       "      <td>markzuckerberg</td>\n",
       "      <td>877</td>\n",
       "    </tr>\n",
       "    <tr>\n",
       "      <th>4</th>\n",
       "      <td>2018-05-13</td>\n",
       "      <td>deletefacebook</td>\n",
       "      <td>645</td>\n",
       "    </tr>\n",
       "  </tbody>\n",
       "</table>\n",
       "</div>"
      ],
      "text/plain": [
       "        dates  clean_keywords  tweets\n",
       "0  2018-05-10  deletefacebook     642\n",
       "1  2018-05-11  deletefacebook    2109\n",
       "2  2018-05-12  deletefacebook    1956\n",
       "3  2018-05-12  markzuckerberg     877\n",
       "4  2018-05-13  deletefacebook     645"
      ]
     },
     "execution_count": 89,
     "metadata": {},
     "output_type": "execute_result"
    }
   ],
   "source": [
    "df_tweet_totals.head()"
   ]
  },
  {
   "cell_type": "code",
   "execution_count": 123,
   "metadata": {},
   "outputs": [
    {
     "data": {
      "text/html": [
       "<div>\n",
       "<style>\n",
       "    .dataframe thead tr:only-child th {\n",
       "        text-align: right;\n",
       "    }\n",
       "\n",
       "    .dataframe thead th {\n",
       "        text-align: left;\n",
       "    }\n",
       "\n",
       "    .dataframe tbody tr th {\n",
       "        vertical-align: top;\n",
       "    }\n",
       "</style>\n",
       "<table border=\"1\" class=\"dataframe\">\n",
       "  <thead>\n",
       "    <tr style=\"text-align: right;\">\n",
       "      <th></th>\n",
       "      <th>dates</th>\n",
       "      <th>clean_keywords</th>\n",
       "      <th>tweets</th>\n",
       "    </tr>\n",
       "  </thead>\n",
       "  <tbody>\n",
       "    <tr>\n",
       "      <th>5</th>\n",
       "      <td>2018-05-13</td>\n",
       "      <td>facebook</td>\n",
       "      <td>553</td>\n",
       "    </tr>\n",
       "    <tr>\n",
       "      <th>9</th>\n",
       "      <td>2018-05-14</td>\n",
       "      <td>facebook</td>\n",
       "      <td>829</td>\n",
       "    </tr>\n",
       "  </tbody>\n",
       "</table>\n",
       "</div>"
      ],
      "text/plain": [
       "        dates clean_keywords  tweets\n",
       "5  2018-05-13       facebook     553\n",
       "9  2018-05-14       facebook     829"
      ]
     },
     "execution_count": 123,
     "metadata": {},
     "output_type": "execute_result"
    }
   ],
   "source": [
    "df_tweet_totals[df_tweet_totals.clean_keywords == 'facebook']"
   ]
  },
  {
   "cell_type": "code",
   "execution_count": 147,
   "metadata": {},
   "outputs": [
    {
     "data": {
      "text/html": [
       "<iframe id=\"igraph\" scrolling=\"no\" style=\"border:none;\" seamless=\"seamless\" src=\"https://plot.ly/~bhudnall/158.embed\" height=\"525px\" width=\"100%\"></iframe>"
      ],
      "text/plain": [
       "<plotly.tools.PlotlyDisplay object>"
      ]
     },
     "execution_count": 147,
     "metadata": {},
     "output_type": "execute_result"
    }
   ],
   "source": [
    "facebook = go.Scatter(x=df_tweet_totals.dates, \n",
    "                      y=df_tweet_totals[df_tweet_totals.clean_keywords == 'facebook'].tweets, \n",
    "                      name = \"facebook\", \n",
    "                      line = dict(color = '#17BECF'), opacity = 0.8)\n",
    "\n",
    "deletefacebook = go.Scatter(x=df_tweet_totals.dates, \n",
    "                            y=df_tweet_totals[df_tweet_totals.clean_keywords == 'deletefacebook'].tweets, \n",
    "                            name = \"deletefacebook\", \n",
    "                            line = dict(color = '#35A43D'), opacity = 0.8)\n",
    "\n",
    "markzuckerberg = go.Scatter(x=df_tweet_totals.dates, \n",
    "                            y=df_tweet_totals[df_tweet_totals.clean_keywords == 'markzuckerberg'].tweets, \n",
    "                            name = \"markzuckerberg\", \n",
    "                            line = dict(color = '#6EA9B5'), opacity = 0.8)\n",
    "\n",
    "cambridgeanalytica = go.Scatter(x=df_tweet_totals.dates, \n",
    "                                y=df_tweet_totals[df_tweet_totals.clean_keywords == 'cambridgeanalytica'].tweets, \n",
    "                                name = \"cambridgeanalytica\", \n",
    "                                line = dict(color = '#846EB5'), opacity = 0.8)\n",
    "\n",
    "aleksandrkogan = go.Scatter(x=df_tweet_totals.dates, \n",
    "                                y=df_tweet_totals[df_tweet_totals.clean_keywords == 'aleksandrkogan'].tweets, \n",
    "                                name = \"aleksandrkogan\", \n",
    "                                line = dict(color = '#B56E8D'), opacity = 0.8)\n",
    "\n",
    "data = [facebook, deletefacebook, markzuckerberg, cambridgeanalytica, aleksandrkogan]\n",
    "\n",
    "layout = dict(\n",
    "    title = \"Total Unique Tweets by Keyword and Date\",\n",
    "    xaxis = dict(range = ['2018-05-10','2018-05-15'])\n",
    ")\n",
    "\n",
    "fig = dict(data = data, layout = layout)\n",
    "py.iplot(fig)"
   ]
  },
  {
   "cell_type": "code",
   "execution_count": 148,
   "metadata": {},
   "outputs": [],
   "source": [
    "py.image.save_as(fig, filename='trend_chart.png')"
   ]
  }
 ],
 "metadata": {
  "kernelspec": {
   "display_name": "Python 3",
   "language": "python",
   "name": "python3"
  },
  "language_info": {
   "codemirror_mode": {
    "name": "ipython",
    "version": 3
   },
   "file_extension": ".py",
   "mimetype": "text/x-python",
   "name": "python",
   "nbconvert_exporter": "python",
   "pygments_lexer": "ipython3",
   "version": "3.6.3"
  }
 },
 "nbformat": 4,
 "nbformat_minor": 2
}
